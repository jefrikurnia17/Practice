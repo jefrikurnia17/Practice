{
 "cells": [
  {
   "cell_type": "code",
   "execution_count": 1,
   "id": "614f5a21",
   "metadata": {},
   "outputs": [],
   "source": [
    "import numpy as np"
   ]
  },
  {
   "cell_type": "code",
   "execution_count": 4,
   "id": "28231101",
   "metadata": {},
   "outputs": [],
   "source": [
    "np_abjad = np.array(['a','b','c','d','e'])"
   ]
  },
  {
   "cell_type": "code",
   "execution_count": 8,
   "id": "cc39a4ac",
   "metadata": {},
   "outputs": [],
   "source": [
    "np_vokal_konsonan = np.array([['a','e','i','o','u'],['b','c','d','f','g']])"
   ]
  },
  {
   "cell_type": "code",
   "execution_count": 9,
   "id": "0c202946",
   "metadata": {},
   "outputs": [
    {
     "data": {
      "text/plain": [
       "1"
      ]
     },
     "execution_count": 9,
     "metadata": {},
     "output_type": "execute_result"
    }
   ],
   "source": [
    "#ndim\n",
    "np_abjad.ndim"
   ]
  },
  {
   "cell_type": "code",
   "execution_count": 11,
   "id": "df8ff382",
   "metadata": {},
   "outputs": [
    {
     "data": {
      "text/plain": [
       "2"
      ]
     },
     "execution_count": 11,
     "metadata": {},
     "output_type": "execute_result"
    }
   ],
   "source": [
    "#ndim\n",
    "np_vokal_konsonan.ndim"
   ]
  },
  {
   "cell_type": "code",
   "execution_count": 12,
   "id": "2331f002",
   "metadata": {},
   "outputs": [
    {
     "data": {
      "text/plain": [
       "(5,)"
      ]
     },
     "execution_count": 12,
     "metadata": {},
     "output_type": "execute_result"
    }
   ],
   "source": [
    "#shape\n",
    "np_abjad.shape"
   ]
  },
  {
   "cell_type": "code",
   "execution_count": 13,
   "id": "7f97faa2",
   "metadata": {},
   "outputs": [
    {
     "data": {
      "text/plain": [
       "(2, 5)"
      ]
     },
     "execution_count": 13,
     "metadata": {},
     "output_type": "execute_result"
    }
   ],
   "source": [
    "#shape\n",
    "np_vokal_konsonan.shape"
   ]
  },
  {
   "cell_type": "code",
   "execution_count": 14,
   "id": "1c69354b",
   "metadata": {},
   "outputs": [
    {
     "data": {
      "text/plain": [
       "5"
      ]
     },
     "execution_count": 14,
     "metadata": {},
     "output_type": "execute_result"
    }
   ],
   "source": [
    "#size\n",
    "np_abjad.size"
   ]
  },
  {
   "cell_type": "code",
   "execution_count": 15,
   "id": "81e03562",
   "metadata": {},
   "outputs": [
    {
     "data": {
      "text/plain": [
       "10"
      ]
     },
     "execution_count": 15,
     "metadata": {},
     "output_type": "execute_result"
    }
   ],
   "source": [
    "#size\n",
    "np_vokal_konsonan.size"
   ]
  },
  {
   "cell_type": "code",
   "execution_count": 16,
   "id": "27852ff9",
   "metadata": {},
   "outputs": [
    {
     "data": {
      "text/plain": [
       "dtype('<U1')"
      ]
     },
     "execution_count": 16,
     "metadata": {},
     "output_type": "execute_result"
    }
   ],
   "source": [
    "#dtype\n",
    "np_abjad.dtype"
   ]
  },
  {
   "cell_type": "code",
   "execution_count": 17,
   "id": "3bf8cb19",
   "metadata": {},
   "outputs": [
    {
     "data": {
      "text/plain": [
       "13"
      ]
     },
     "execution_count": 17,
     "metadata": {},
     "output_type": "execute_result"
    }
   ],
   "source": [
    "np.add(5,8)"
   ]
  },
  {
   "cell_type": "code",
   "execution_count": 22,
   "id": "999acc9d",
   "metadata": {},
   "outputs": [
    {
     "data": {
      "text/plain": [
       "array([15])"
      ]
     },
     "execution_count": 22,
     "metadata": {},
     "output_type": "execute_result"
    }
   ],
   "source": [
    "np.array([1+2+3+4+5])"
   ]
  },
  {
   "cell_type": "code",
   "execution_count": 23,
   "id": "802bd374",
   "metadata": {},
   "outputs": [],
   "source": [
    "np_angka = np.array([15,22,31,49,50])"
   ]
  },
  {
   "cell_type": "code",
   "execution_count": 25,
   "id": "007526c9",
   "metadata": {},
   "outputs": [
    {
     "data": {
      "text/plain": [
       "array([False, False,  True, False, False])"
      ]
     },
     "execution_count": 25,
     "metadata": {},
     "output_type": "execute_result"
    }
   ],
   "source": [
    "#AND\n",
    "np.logical_and(np_angka>25,np_angka<45)"
   ]
  },
  {
   "cell_type": "code",
   "execution_count": 26,
   "id": "8818e724",
   "metadata": {},
   "outputs": [
    {
     "data": {
      "text/plain": [
       "array([ True,  True, False,  True,  True])"
      ]
     },
     "execution_count": 26,
     "metadata": {},
     "output_type": "execute_result"
    }
   ],
   "source": [
    "#OR\n",
    "np.logical_or(np_angka<25,np_angka>45)"
   ]
  },
  {
   "cell_type": "code",
   "execution_count": 29,
   "id": "84bb60cd",
   "metadata": {},
   "outputs": [
    {
     "data": {
      "text/plain": [
       "array([False,  True,  True,  True,  True])"
      ]
     },
     "execution_count": 29,
     "metadata": {},
     "output_type": "execute_result"
    }
   ],
   "source": [
    "#NOT\n",
    "np.logical_not(np_angka==15)"
   ]
  },
  {
   "cell_type": "code",
   "execution_count": 33,
   "id": "7460bcd8",
   "metadata": {},
   "outputs": [
    {
     "data": {
      "text/plain": [
       "array([ True, False, False,  True,  True])"
      ]
     },
     "execution_count": 33,
     "metadata": {},
     "output_type": "execute_result"
    }
   ],
   "source": [
    "#XOR\n",
    "np.logical_xor(np_angka>20,np_angka<40)"
   ]
  },
  {
   "cell_type": "code",
   "execution_count": 35,
   "id": "f6df1d9c",
   "metadata": {},
   "outputs": [
    {
     "data": {
      "text/plain": [
       "15"
      ]
     },
     "execution_count": 35,
     "metadata": {},
     "output_type": "execute_result"
    }
   ],
   "source": [
    "np_angka[0]"
   ]
  },
  {
   "cell_type": "code",
   "execution_count": 36,
   "id": "5fd99d6b",
   "metadata": {},
   "outputs": [
    {
     "data": {
      "text/plain": [
       "50"
      ]
     },
     "execution_count": 36,
     "metadata": {},
     "output_type": "execute_result"
    }
   ],
   "source": [
    "np_angka[-1]"
   ]
  },
  {
   "cell_type": "code",
   "execution_count": 37,
   "id": "9a0c64c3",
   "metadata": {},
   "outputs": [
    {
     "data": {
      "text/plain": [
       "49"
      ]
     },
     "execution_count": 37,
     "metadata": {},
     "output_type": "execute_result"
    }
   ],
   "source": [
    "np_angka[-2]"
   ]
  },
  {
   "cell_type": "code",
   "execution_count": 38,
   "id": "51a80311",
   "metadata": {},
   "outputs": [
    {
     "data": {
      "text/plain": [
       "array([15, 22, 31, 49])"
      ]
     },
     "execution_count": 38,
     "metadata": {},
     "output_type": "execute_result"
    }
   ],
   "source": [
    "np_angka[0:4]"
   ]
  },
  {
   "cell_type": "code",
   "execution_count": 39,
   "id": "7f88de86",
   "metadata": {},
   "outputs": [],
   "source": [
    "arr_A = np.array([[1,2,3,4,5],[2,4,6,8,10]])"
   ]
  },
  {
   "cell_type": "code",
   "execution_count": 41,
   "id": "9ae0d0c1",
   "metadata": {},
   "outputs": [
    {
     "data": {
      "text/plain": [
       "6"
      ]
     },
     "execution_count": 41,
     "metadata": {},
     "output_type": "execute_result"
    }
   ],
   "source": [
    "arr_A[1,2]"
   ]
  },
  {
   "cell_type": "code",
   "execution_count": 42,
   "id": "89be0ff0",
   "metadata": {},
   "outputs": [
    {
     "data": {
      "text/plain": [
       "array([3, 6])"
      ]
     },
     "execution_count": 42,
     "metadata": {},
     "output_type": "execute_result"
    }
   ],
   "source": [
    "arr_A[:,2]"
   ]
  },
  {
   "cell_type": "code",
   "execution_count": 44,
   "id": "06c5bfae",
   "metadata": {},
   "outputs": [
    {
     "data": {
      "text/plain": [
       "array([ 2,  4,  6,  8, 10])"
      ]
     },
     "execution_count": 44,
     "metadata": {},
     "output_type": "execute_result"
    }
   ],
   "source": [
    "arr_A[1,:]"
   ]
  },
  {
   "cell_type": "code",
   "execution_count": 50,
   "id": "e0a2aa3e",
   "metadata": {},
   "outputs": [],
   "source": [
    "NAMA = np.array(['Parjo','Bagus','Aji'])"
   ]
  },
  {
   "cell_type": "code",
   "execution_count": 51,
   "id": "a43bf22d",
   "metadata": {},
   "outputs": [
    {
     "name": "stdout",
     "output_type": "stream",
     "text": [
      "Halo Parjo\n",
      "Halo Bagus\n",
      "Halo Aji\n"
     ]
    }
   ],
   "source": [
    "for sambutan in NAMA:\n",
    "    print('Halo', sambutan)"
   ]
  },
  {
   "cell_type": "code",
   "execution_count": null,
   "id": "39d66681",
   "metadata": {},
   "outputs": [],
   "source": []
  },
  {
   "cell_type": "code",
   "execution_count": null,
   "id": "cdc4f103",
   "metadata": {},
   "outputs": [],
   "source": []
  }
 ],
 "metadata": {
  "kernelspec": {
   "display_name": "Python 3 (ipykernel)",
   "language": "python",
   "name": "python3"
  },
  "language_info": {
   "codemirror_mode": {
    "name": "ipython",
    "version": 3
   },
   "file_extension": ".py",
   "mimetype": "text/x-python",
   "name": "python",
   "nbconvert_exporter": "python",
   "pygments_lexer": "ipython3",
   "version": "3.9.7"
  }
 },
 "nbformat": 4,
 "nbformat_minor": 5
}
